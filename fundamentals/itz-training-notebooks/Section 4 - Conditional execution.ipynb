{
 "cells": [
  {
   "cell_type": "markdown",
   "id": "ed2c381a",
   "metadata": {},
   "source": [
    "if..else"
   ]
  },
  {
   "cell_type": "code",
   "execution_count": 1,
   "id": "c81c188c",
   "metadata": {},
   "outputs": [
    {
     "name": "stdout",
     "output_type": "stream",
     "text": [
      "1 is less than 2\n"
     ]
    }
   ],
   "source": [
    "if 1 < 2:\n",
    "    print('1 is less than 2')"
   ]
  },
  {
   "cell_type": "code",
   "execution_count": 4,
   "id": "638f0e67",
   "metadata": {},
   "outputs": [
    {
     "name": "stdout",
     "output_type": "stream",
     "text": [
      "Second Line\n"
     ]
    }
   ],
   "source": [
    "if 1 > 2:\n",
    "    print('First line')\n",
    "print('Second Line')"
   ]
  },
  {
   "cell_type": "code",
   "execution_count": 7,
   "id": "c92535b0",
   "metadata": {},
   "outputs": [
    {
     "name": "stdout",
     "output_type": "stream",
     "text": [
      "1 is not less than 2\n"
     ]
    }
   ],
   "source": [
    "if 1 > 2:\n",
    "    print('1 is less than 2')\n",
    "else:\n",
    "    print('1 is not less than 2')"
   ]
  },
  {
   "cell_type": "code",
   "execution_count": null,
   "id": "9707e45c",
   "metadata": {},
   "outputs": [],
   "source": [
    "account_enabled = True\n",
    "balance = 1000\n",
    "withdraw = 100\n",
    "\n"
   ]
  }
 ],
 "metadata": {
  "kernelspec": {
   "display_name": "Python 3 (ipykernel)",
   "language": "python",
   "name": "python3"
  },
  "language_info": {
   "codemirror_mode": {
    "name": "ipython",
    "version": 3
   },
   "file_extension": ".py",
   "mimetype": "text/x-python",
   "name": "python",
   "nbconvert_exporter": "python",
   "pygments_lexer": "ipython3",
   "version": "3.11.6"
  }
 },
 "nbformat": 4,
 "nbformat_minor": 5
}
