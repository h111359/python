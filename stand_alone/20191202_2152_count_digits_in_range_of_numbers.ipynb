{
 "cells": [
  {
   "cell_type": "code",
   "execution_count": null,
   "metadata": {},
   "outputs": [],
   "source": [
    "def dig_count ( number, digit ):\n",
    "    br = 0\n",
    "    n = number\n",
    "    while n > 0:\n",
    "        #print (n)\n",
    "        if  n % 10 == digit:\n",
    "            br += 1\n",
    "        n = n // 10\n",
    "    return br"
   ]
  },
  {
   "cell_type": "code",
   "execution_count": null,
   "metadata": {},
   "outputs": [],
   "source": [
    "digits_number = 0\n",
    "for i in range (73,1893+1):\n",
    "    cnt_dig = dig_count(i, 8)\n",
    "    digits_number += cnt_dig\n",
    "    print (i, ' - ', cnt_dig)\n",
    "print (digits_number)"
   ]
  },
  {
   "cell_type": "code",
   "execution_count": null,
   "metadata": {},
   "outputs": [],
   "source": []
  }
 ],
 "metadata": {
  "kernelspec": {
   "display_name": "Python 3",
   "language": "python",
   "name": "python3"
  },
  "language_info": {
   "codemirror_mode": {
    "name": "ipython",
    "version": 3
   },
   "file_extension": ".py",
   "mimetype": "text/x-python",
   "name": "python",
   "nbconvert_exporter": "python",
   "pygments_lexer": "ipython3",
   "version": "3.7.1"
  }
 },
 "nbformat": 4,
 "nbformat_minor": 2
}
