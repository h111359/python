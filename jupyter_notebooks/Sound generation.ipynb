{
 "cells": [
  {
   "cell_type": "markdown",
   "id": "c98e745f",
   "metadata": {},
   "source": [
    "# Sound generation"
   ]
  },
  {
   "cell_type": "markdown",
   "id": "638f71cb",
   "metadata": {},
   "source": [
    "Check these links:\n",
    "https://studiocode.dev/resources/midi-middle-c/"
   ]
  },
  {
   "cell_type": "markdown",
   "id": "6a046402",
   "metadata": {},
   "source": [
    "Mila Moya Mamo"
   ]
  },
  {
   "cell_type": "code",
   "execution_count": 28,
   "id": "360a9037",
   "metadata": {},
   "outputs": [],
   "source": [
    "from midiutil import MIDIFile\n",
    "\n",
    "def generate_midi():\n",
    "    # Create a MIDI file with one track\n",
    "    midi = MIDIFile(1)\n",
    "\n",
    "    # Add track name and tempo\n",
    "    midi.addTrackName(0, 0, \"Melody Track\")\n",
    "    midi.addTempo(0, 0, 180)\n",
    "\n",
    "    # Add notes to the melody\n",
    "\n",
    "  \n",
    "    notes = [\n",
    "        [60,1], [62,1], [60,1], [62,1], [64,2], [64, 2], \n",
    "        [60,1], [62,1], [60,1], [62,1], [64,2], [64, 2],   \n",
    "        [65,1], [64,1], [65,1], [64,1], [62,2], [62, 2],   \n",
    "        [64,1], [62,1], [64,1], [62,1], [60,2], [60, 2]\n",
    "    ]\n",
    "    position = 1\n",
    "    for [note, duration] in notes:        \n",
    "        midi.addNote(0, 0, note, position, duration, 100) \n",
    "        position += duration\n",
    "    \n",
    "    return midi\n",
    "\n",
    "def save_midi(midi, filename=\"mila_moya_mamo.mid\"):\n",
    "    with open(filename, \"wb\") as midi_file:\n",
    "        midi.writeFile(midi_file)\n",
    "\n",
    "if __name__ == \"__main__\":\n",
    "    melody_midi = generate_midi()\n",
    "    save_midi(melody_midi)\n"
   ]
  },
  {
   "cell_type": "markdown",
   "id": "5d7d3944",
   "metadata": {},
   "source": [
    "Zaychentseto Byalo"
   ]
  },
  {
   "cell_type": "code",
   "execution_count": 74,
   "id": "1ae25a00",
   "metadata": {},
   "outputs": [],
   "source": [
    "from midiutil import MIDIFile\n",
    "\n",
    "def generate_midi():\n",
    "    # Create a MIDI file with one track\n",
    "    midi = MIDIFile(1)\n",
    "\n",
    "    # Add track name and tempo\n",
    "    midi.addTrackName(0, 0, \"Melody Track\")\n",
    "    midi.addTempo(0, 0, 150)\n",
    "    \n",
    "    volume = 127\n",
    "    \n",
    "    # Add notes to the melody\n",
    "\n",
    "  \n",
    "    notes = [\n",
    "        [65,1], [65,1], [62,1], [65,1], [70,1], [67, 1], [65,2],\n",
    "        [65,1], [65,1], [62,1], [65,1], [70,1], [67, 1], [65,2],\n",
    "        [63,1], [63,1], [65,1], [65,1], [62,2], [65, 2],  \n",
    "        [63,1], [63,1], [65,1], [65,1], [62,2], [65, 2],   \n",
    "        [67,1], [67,1], [70,1], [70,1], [65,2], [70, 2],\n",
    "        [65,1], [63,1], [62,1], [60,1], [58,2], [58, 2] \n",
    "    ]\n",
    "    position = 1\n",
    "    for [note, duration] in notes:        \n",
    "        midi.addNote(0, 0, note, position, duration, volume) \n",
    "        position += duration\n",
    "    \n",
    "    return midi\n",
    "\n",
    "def save_midi(midi, filename=\"test.mid\"):\n",
    "    with open(filename, \"wb\") as midi_file:\n",
    "        midi.writeFile(midi_file)\n",
    "\n",
    "if __name__ == \"__main__\":\n",
    "    melody_midi = generate_midi()\n",
    "    save_midi(melody_midi)"
   ]
  },
  {
   "cell_type": "code",
   "execution_count": null,
   "id": "cef63f66",
   "metadata": {},
   "outputs": [],
   "source": []
  }
 ],
 "metadata": {
  "kernelspec": {
   "display_name": "Python 3 (ipykernel)",
   "language": "python",
   "name": "python3"
  },
  "language_info": {
   "codemirror_mode": {
    "name": "ipython",
    "version": 3
   },
   "file_extension": ".py",
   "mimetype": "text/x-python",
   "name": "python",
   "nbconvert_exporter": "python",
   "pygments_lexer": "ipython3",
   "version": "3.11.6"
  }
 },
 "nbformat": 4,
 "nbformat_minor": 5
}
