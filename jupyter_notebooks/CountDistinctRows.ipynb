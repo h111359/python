{
 "cells": [
  {
   "cell_type": "code",
   "execution_count": null,
   "id": "4ad477ea",
   "metadata": {},
   "outputs": [],
   "source": [
    "formNumber = 24\n",
    "toNumber = 1280\n",
    "searchedDigit = 0\n",
    "\n",
    "def dig_count ( number, digit ):\n",
    "    br = 0\n",
    "    n = number\n",
    "    while n > 0:\n",
    "        #print (n)\n",
    "        if  n % 10 == digit:\n",
    "            br += 1\n",
    "        n = n // 10\n",
    "    return br\n",
    "\n",
    "digits_number = 0\n",
    "for i in range (formNumber, toNumber+1):\n",
    "    cnt_dig = dig_count(i, searchedDigit)\n",
    "    digits_number += cnt_dig\n",
    "    print (i, ' - ', cnt_dig)\n",
    "\n",
    "print (\"Digits \" + str(searchedDigit) + \" from \" + str(formNumber) + \" to \" + str(toNumber) + \" are \" + str(digits_number))   \n"
   ]
  }
 ],
 "metadata": {
  "kernelspec": {
   "display_name": "Python 3 (ipykernel)",
   "language": "python",
   "name": "python3"
  },
  "language_info": {
   "codemirror_mode": {
    "name": "ipython",
    "version": 3
   },
   "file_extension": ".py",
   "mimetype": "text/x-python",
   "name": "python",
   "nbconvert_exporter": "python",
   "pygments_lexer": "ipython3",
   "version": "3.11.6"
  }
 },
 "nbformat": 4,
 "nbformat_minor": 5
}
