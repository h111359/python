{
 "cells": [
  {
   "cell_type": "code",
   "execution_count": null,
   "id": "33fe0bb6",
   "metadata": {},
   "outputs": [],
   "source": [
    "import os\n",
    "import shutil\n",
    "\n",
    "# List of source folders and corresponding destination folders\n",
    "source_folders = ['/path/to/source_folder1', '/path/to/source_folder2']\n",
    "destination_folders = ['/path/to/destination_folder1', '/path/to/destination_folder2']\n",
    "\n",
    "# Iterate through the source and destination folder pairs\n",
    "for src_folder, dest_folder in zip(source_folders, destination_folders):\n",
    "    # Ensure that the source folder exists\n",
    "    if not os.path.exists(src_folder):\n",
    "        print(f\"Source folder '{src_folder}' does not exist.\")\n",
    "        continue\n",
    "\n",
    "    # Ensure that the destination folder exists; create it if it doesn't\n",
    "    if not os.path.exists(dest_folder):\n",
    "        os.makedirs(dest_folder)\n",
    "\n",
    "    # Iterate through the files in the source folder\n",
    "    for filename in os.listdir(src_folder):\n",
    "        src_file_path = os.path.join(src_folder, filename)\n",
    "        dest_file_path = os.path.join(dest_folder, filename)\n",
    "\n",
    "        # Copy the file from the source to the destination folder\n",
    "        try:\n",
    "            shutil.copy(src_file_path, dest_file_path)\n",
    "            print(f\"Copied '{filename}' from '{src_folder}' to '{dest_folder}'\")\n",
    "        except Exception as e:\n",
    "            print(f\"Error copying '{filename}': {e}\")\n",
    "\n",
    "print(\"File copying completed.\")\n"
   ]
  }
 ],
 "metadata": {
  "kernelspec": {
   "display_name": "Python 3 (ipykernel)",
   "language": "python",
   "name": "python3"
  },
  "language_info": {
   "codemirror_mode": {
    "name": "ipython",
    "version": 3
   },
   "file_extension": ".py",
   "mimetype": "text/x-python",
   "name": "python",
   "nbconvert_exporter": "python",
   "pygments_lexer": "ipython3",
   "version": "3.11.6"
  }
 },
 "nbformat": 4,
 "nbformat_minor": 5
}
