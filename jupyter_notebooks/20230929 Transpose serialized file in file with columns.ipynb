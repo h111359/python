{
 "cells": [
  {
   "cell_type": "code",
   "execution_count": 2,
   "id": "52b7dccf",
   "metadata": {},
   "outputs": [
    {
     "name": "stdout",
     "output_type": "stream",
     "text": [
      "Enter the input filename: /home/hromar/Desktop/UBB_pension_entries.txt\n",
      "Enter the output filename: /home/hromar/Desktop/UBB_pension_entries_transposed_02.txt\n",
      "Concatenated 532 lines and saved to /home/hromar/Desktop/UBB_pension_entries_transposed_02.txt\n"
     ]
    }
   ],
   "source": [
    "def concatenate_lines(input_filename, output_filename):\n",
    "    try:\n",
    "        with open(input_filename, 'r') as input_file, open(output_filename, 'w') as output_file:\n",
    "            lines = input_file.readlines()\n",
    "            concatenated_lines = []\n",
    "\n",
    "            for i in range(0, len(lines), 8):\n",
    "                # Join 8 lines, excluding the end of line symbol, with a semicolon\n",
    "                concatenated_line = \";\".join(lines[i:i + 8]).replace('\\n', '')\n",
    "                concatenated_lines.append(concatenated_line)\n",
    "\n",
    "            # Write the concatenated lines to the output file\n",
    "            output_file.write(\"\\n\".join(concatenated_lines))\n",
    "            print(f\"Concatenated {len(concatenated_lines)} lines and saved to {output_filename}\")\n",
    "\n",
    "    except FileNotFoundError:\n",
    "        print(f\"Error: The file '{input_filename}' was not found.\")\n",
    "    except Exception as e:\n",
    "        print(f\"An error occurred: {e}\")\n",
    "\n",
    "if __name__ == \"__main__\":\n",
    "    input_filename = input(\"Enter the input filename: \")\n",
    "    output_filename = input(\"Enter the output filename: \")\n",
    "\n",
    "    concatenate_lines(input_filename, output_filename)\n"
   ]
  },
  {
   "cell_type": "code",
   "execution_count": null,
   "id": "fd6a276e",
   "metadata": {},
   "outputs": [],
   "source": []
  }
 ],
 "metadata": {
  "kernelspec": {
   "display_name": "Python 3 (ipykernel)",
   "language": "python",
   "name": "python3"
  },
  "language_info": {
   "codemirror_mode": {
    "name": "ipython",
    "version": 3
   },
   "file_extension": ".py",
   "mimetype": "text/x-python",
   "name": "python",
   "nbconvert_exporter": "python",
   "pygments_lexer": "ipython3",
   "version": "3.11.4"
  }
 },
 "nbformat": 4,
 "nbformat_minor": 5
}
