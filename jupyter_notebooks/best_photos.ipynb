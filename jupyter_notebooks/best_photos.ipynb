{
 "cells": [
  {
   "cell_type": "code",
   "execution_count": null,
   "id": "4b0dc4a0",
   "metadata": {},
   "outputs": [],
   "source": [
    "import os\n",
    "import shutil\n",
    "from pathlib import Path\n",
    "\n",
    "def processFolder(folder):\n",
    "    print(folder)\n",
    "    upper_folder_name = os.path.basename(folder)\n",
    "    upper_folder = Path(folder).parent\n",
    "    for count, filename in enumerate(os.listdir(folder)):\n",
    "        current_file_path = os.path.join (folder, filename)\n",
    "        new_file_path = os.path.join (upper_folder, upper_folder_name + '_' + filename)\n",
    "        print (current_file_path + ' -> ' + new_file_path)\n",
    "        shutil.move(current_file_path, new_file_path)\n",
    "\n",
    "def applyOnSubfolders(folder, func):\n",
    "    for root, directories, files in os.walk(folder, topdown=False):\n",
    "        for name in directories:\n",
    "            func(os.path.join(folder,  name))\n",
    "\n",
    "\n",
    "def main():\n",
    "\n",
    "    folder = r\"C:\\Users\\Tsonski\\Desktop\\GoogleDrive\\h11135912_Photos_Best\\Photos_012_Best\\2012\"   \n",
    "    \n",
    "    applyOnSubfolders(folder, processFolder)\n",
    "\n",
    "\n",
    "# Driver Code\n",
    "if __name__ == '__main__':\n",
    "     \n",
    "    # Calling main() function\n",
    "    main()"
   ]
  }
 ],
 "metadata": {
  "kernelspec": {
   "display_name": "Python 3 (ipykernel)",
   "language": "python",
   "name": "python3"
  },
  "language_info": {
   "codemirror_mode": {
    "name": "ipython",
    "version": 3
   },
   "file_extension": ".py",
   "mimetype": "text/x-python",
   "name": "python",
   "nbconvert_exporter": "python",
   "pygments_lexer": "ipython3",
   "version": "3.11.6"
  }
 },
 "nbformat": 4,
 "nbformat_minor": 5
}
