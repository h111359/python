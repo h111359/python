{
 "cells": [
  {
   "cell_type": "markdown",
   "id": "40caf377",
   "metadata": {},
   "source": [
    "Given an array of integers, calculate the ratios of its elements that are positive, negative, and zero. Print the decimal value of each fraction on a new line with\n",
    "\n",
    "places after the decimal.\n",
    "\n",
    "Note: This challenge introduces precision problems. The test cases are scaled to six decimal places, though answers with absolute error of up to\n",
    "are acceptable."
   ]
  },
  {
   "cell_type": "code",
   "execution_count": 12,
   "id": "f602ef78",
   "metadata": {},
   "outputs": [
    {
     "name": "stdout",
     "output_type": "stream",
     "text": [
      "6\n",
      "-4 3 -9 0 4 1\n",
      "0.500000\n",
      "0.333333\n",
      "0.166667\n"
     ]
    }
   ],
   "source": [
    "import math\n",
    "import os\n",
    "import random\n",
    "import re\n",
    "import sys\n",
    "\n",
    "#\n",
    "# Complete the 'plusMinus' function below.\n",
    "#\n",
    "# The function accepts INTEGER_ARRAY arr as parameter.\n",
    "#\n",
    "\n",
    "def plusMinus(arr):\n",
    "    # Write your code here\n",
    "    \n",
    "    total_sum = 0\n",
    "    total_num = 0\n",
    "    \n",
    "    positive_sum = 0\n",
    "    positive_num = 0\n",
    "    \n",
    "    negative_sum = 0\n",
    "    negative_num = 0\n",
    "    \n",
    "    zero_num = 0\n",
    "    \n",
    "    for i in arr:\n",
    "        if i > 0:\n",
    "            total_sum += i\n",
    "            total_num += 1\n",
    "            positive_sum += i\n",
    "            positive_num += 1\n",
    "        elif i == 0:\n",
    "            total_sum += i\n",
    "            total_num += 1\n",
    "            zero_num += 1\n",
    "        else:\n",
    "            total_sum += i\n",
    "            total_num += 1\n",
    "            negative_sum += i\n",
    "            negative_num += 1\n",
    "            \n",
    "    print('{0:.6f}'.format(positive_num / total_num))\n",
    "\n",
    "    print('{0:.6f}'.format(negative_num / total_num))\n",
    "    \n",
    "    print('{0:.6f}'.format(zero_num / total_num))\n",
    "\n",
    "if __name__ == '__main__':\n",
    "    n = int(input().strip())\n",
    "\n",
    "    arr = list(map(int, input().rstrip().split()))\n",
    "\n",
    "    plusMinus(arr)\n"
   ]
  },
  {
   "cell_type": "code",
   "execution_count": null,
   "id": "4eb9cab3",
   "metadata": {},
   "outputs": [],
   "source": []
  }
 ],
 "metadata": {
  "kernelspec": {
   "display_name": "Python 3 (ipykernel)",
   "language": "python",
   "name": "python3"
  },
  "language_info": {
   "codemirror_mode": {
    "name": "ipython",
    "version": 3
   },
   "file_extension": ".py",
   "mimetype": "text/x-python",
   "name": "python",
   "nbconvert_exporter": "python",
   "pygments_lexer": "ipython3",
   "version": "3.11.6"
  }
 },
 "nbformat": 4,
 "nbformat_minor": 5
}
