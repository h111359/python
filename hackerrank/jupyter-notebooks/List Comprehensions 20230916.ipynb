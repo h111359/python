{
 "cells": [
  {
   "cell_type": "markdown",
   "id": "e464c4a7",
   "metadata": {},
   "source": [
    "## itertools.combinations_with_replacement"
   ]
  },
  {
   "cell_type": "code",
   "execution_count": null,
   "id": "c2b0cbf9",
   "metadata": {},
   "outputs": [],
   "source": [
    "import itertools\n",
    "inpt,r = input().split()\n",
    "for i in itertools.combinations_with_replacement(''.join(sorted(inpt)),int(r)):\n",
    "    print(''.join(i))"
   ]
  },
  {
   "cell_type": "markdown",
   "id": "e4730b44",
   "metadata": {},
   "source": [
    "## Comprehensions"
   ]
  },
  {
   "cell_type": "markdown",
   "id": "9782c425",
   "metadata": {},
   "source": [
    "Let's learn about list comprehensions! You are given three integers x, y and z representing the dimensions of a cuboid along with an integer n. Print a list of all possible coordinates given by (i, j, k) on a 3D grid where the sum of (i + j + k) is not equal to n. Here, 0<=i<=x, 0<=j<=y, 0<=k<=z. Please use list comprehensions rather than multiple loops, as a learning exercise.\n",
    "\n",
    "### Example\n",
    "\n",
    "x=1, y=1, z=2, n=2\n",
    "\n",
    "All permutations of are:\n",
    "[[0, 0, 0], [0, 0, 1], [0, 1, 0], [1, 0, 0], [1, 1, 1]]\n",
    ".\n",
    "\n",
    "Print an array of the elements that do not sum to\n",
    "[[0, 0, 0], [0, 0, 1], [0, 1, 0], [1, 0, 0], [1, 1, 1]]\n",
    ".\n",
    "\n",
    "### Input Format\n",
    "\n",
    "Four integers x,y,z and n, each on a separate line.\n",
    "\n",
    "### Constraints\n",
    "\n",
    "Print the list in lexicographic increasing order.\n",
    "\n",
    "### Sample Input 0\n",
    "\n",
    "1\n",
    "1\n",
    "1\n",
    "2\n",
    "\n",
    "### Sample Output 0\n",
    "\n",
    "[[0, 0, 0], [0, 0, 1], [0, 1, 0], [1, 0, 0], [1, 1, 1]]\n",
    "\n",
    "### Explanation 0\n",
    "\n",
    "Each variable\n",
    "and will have values of or . All permutations of lists in the form .\n",
    "Remove all arrays that sum to\n",
    "\n",
    "to leave only the valid permutations.\n",
    "\n",
    "### Sample Input 1\n",
    "\n",
    "2\n",
    "2\n",
    "2\n",
    "2\n",
    "\n",
    "### Sample Output 1\n",
    "\n",
    "[[0, 0, 0], [0, 0, 1], [0, 1, 0], [0, 1, 2], [0, 2, 1], [0, 2, 2], [1, 0, 0], [1, 0, 2], [1, 1, 1], [1, 1, 2], [1, 2, 0], [1, 2, 1], [1, 2, 2], [2, 0, 1], [2, 0, 2], [2, 1, 0], [2, 1, 1], [2, 1, 2], [2, 2, 0], [2, 2, 1], [2, 2, 2]]\n",
    "\n"
   ]
  },
  {
   "cell_type": "code",
   "execution_count": 7,
   "id": "bf69097b",
   "metadata": {},
   "outputs": [
    {
     "name": "stdout",
     "output_type": "stream",
     "text": [
      "2\n",
      "3\n",
      "4\n",
      "5\n"
     ]
    }
   ],
   "source": [
    "if __name__ == '__main__':\n",
    "    x = int(input())\n",
    "    y = int(input())\n",
    "    z = int(input())\n",
    "    n = int(input())"
   ]
  },
  {
   "cell_type": "code",
   "execution_count": 8,
   "id": "51245a46",
   "metadata": {
    "scrolled": true
   },
   "outputs": [],
   "source": [
    "\n",
    "    \n",
    "x_array = [*range(x+1)]\n",
    "y_array = [*range(y+1)]\n",
    "z_array = [*range(z+1)]\n",
    "result_list = [[x,y,z] for x in x_array for y in y_array for z in z_array if x+y+z != n]\n",
    "print(result_list)"
   ]
  }
 ],
 "metadata": {
  "kernelspec": {
   "display_name": "Python 3 (ipykernel)",
   "language": "python",
   "name": "python3"
  },
  "language_info": {
   "codemirror_mode": {
    "name": "ipython",
    "version": 3
   },
   "file_extension": ".py",
   "mimetype": "text/x-python",
   "name": "python",
   "nbconvert_exporter": "python",
   "pygments_lexer": "ipython3",
   "version": "3.11.4"
  }
 },
 "nbformat": 4,
 "nbformat_minor": 5
}
