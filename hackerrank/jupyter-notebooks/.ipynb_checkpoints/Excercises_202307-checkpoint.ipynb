{
 "cells": [
  {
   "cell_type": "markdown",
   "id": "41a0871d",
   "metadata": {},
   "source": [
    "## itertools.combinations_with_replacement"
   ]
  },
  {
   "cell_type": "code",
   "execution_count": null,
   "id": "363ce205",
   "metadata": {},
   "outputs": [],
   "source": [
    "import itertools\n",
    "inpt,r = input().split()\n",
    "for i in itertools.combinations_with_replacement(''.join(sorted(inpt)),int(r)):\n",
    "    print(''.join(i))"
   ]
  },
  {
   "cell_type": "markdown",
   "id": "9b7a5a8e",
   "metadata": {},
   "source": [
    "## Comprehensions"
   ]
  },
  {
   "cell_type": "markdown",
   "id": "886d9a11",
   "metadata": {},
   "source": [
    "Let's learn about list comprehensions! You are given three integers x, y and z representing the dimensions of a cuboid along with an integer n. Print a list of all possible coordinates given by (i, j, k) on a 3D grid where the sum of (i + j + k) is not equal to n. Here, 0<=i<=x, 0<=j<=y, 0<=k<=z. Please use list comprehensions rather than multiple loops, as a learning exercise.\n",
    "\n",
    "### Example\n",
    "\n",
    "x=1, y=1, z=2, n=2\n",
    "\n",
    "All permutations of are:\n",
    "[[0, 0, 0], [0, 0, 1], [0, 1, 0], [1, 0, 0], [1, 1, 1]]\n",
    ".\n",
    "\n",
    "Print an array of the elements that do not sum to\n",
    "[[0, 0, 0], [0, 0, 1], [0, 1, 0], [1, 0, 0], [1, 1, 1]]\n",
    ".\n",
    "\n",
    "### Input Format\n",
    "\n",
    "Four integers x,y,z and n, each on a separate line.\n",
    "\n",
    "### Constraints\n",
    "\n",
    "Print the list in lexicographic increasing order.\n",
    "\n",
    "### Sample Input 0\n",
    "\n",
    "1\n",
    "1\n",
    "1\n",
    "2\n",
    "\n",
    "### Sample Output 0\n",
    "\n",
    "[[0, 0, 0], [0, 0, 1], [0, 1, 0], [1, 0, 0], [1, 1, 1]]\n",
    "\n",
    "### Explanation 0\n",
    "\n",
    "Each variable\n",
    "and will have values of or . All permutations of lists in the form .\n",
    "Remove all arrays that sum to\n",
    "\n",
    "to leave only the valid permutations.\n",
    "\n",
    "### Sample Input 1\n",
    "\n",
    "2\n",
    "2\n",
    "2\n",
    "2\n",
    "\n",
    "### Sample Output 1\n",
    "\n",
    "[[0, 0, 0], [0, 0, 1], [0, 1, 0], [0, 1, 2], [0, 2, 1], [0, 2, 2], [1, 0, 0], [1, 0, 2], [1, 1, 1], [1, 1, 2], [1, 2, 0], [1, 2, 1], [1, 2, 2], [2, 0, 1], [2, 0, 2], [2, 1, 0], [2, 1, 1], [2, 1, 2], [2, 2, 0], [2, 2, 1], [2, 2, 2]]\n",
    "\n"
   ]
  },
  {
   "cell_type": "code",
   "execution_count": null,
   "id": "8e585415",
   "metadata": {},
   "outputs": [],
   "source": [
    "if __name__ == '__main__':\n",
    "    x = int(input())\n",
    "    y = int(input())\n",
    "    z = int(input())\n",
    "    n = int(input())"
   ]
  },
  {
   "cell_type": "code",
   "execution_count": 23,
   "id": "c5b19350",
   "metadata": {
    "scrolled": true
   },
   "outputs": [],
   "source": [
    "\n",
    "    \n",
    "x_array = [*range(x+1)]\n",
    "y_array = [*range(y+1)]\n",
    "z_array = [*range(z+1)]\n",
    "\n"
   ]
  },
  {
   "cell_type": "code",
   "execution_count": 31,
   "id": "d81a5ca2",
   "metadata": {},
   "outputs": [
    {
     "name": "stdout",
     "output_type": "stream",
     "text": [
      "[0, 1, 2]\n",
      "[0, 1, 2, 3]\n",
      "[0, 1, 2, 3, 4]\n",
      "n = 5\n"
     ]
    }
   ],
   "source": [
    "print(x_array)\n",
    "print(y_array)\n",
    "print(z_array)\n",
    "print(\"n = {0}\".format(str(n)))"
   ]
  },
  {
   "cell_type": "code",
   "execution_count": null,
   "id": "0704d45b",
   "metadata": {},
   "outputs": [],
   "source": []
  }
 ],
 "metadata": {
  "kernelspec": {
   "display_name": "Python 3 (ipykernel)",
   "language": "python",
   "name": "python3"
  },
  "language_info": {
   "codemirror_mode": {
    "name": "ipython",
    "version": 3
   },
   "file_extension": ".py",
   "mimetype": "text/x-python",
   "name": "python",
   "nbconvert_exporter": "python",
   "pygments_lexer": "ipython3",
   "version": "3.11.2"
  }
 },
 "nbformat": 4,
 "nbformat_minor": 5
}
